{
 "cells": [
  {
   "cell_type": "code",
   "execution_count": 1,
   "metadata": {},
   "outputs": [],
   "source": [
    "import numpy as np\n",
    "np.set_printoptions(threshold=np.nan)"
   ]
  },
  {
   "cell_type": "markdown",
   "metadata": {},
   "source": [
    "## Generate weights for neural network with 3 layers using Xavier's Initialization\n",
    "#### Layer 1 is a input layer\n",
    "#### Layer 2 is a hidden layer - N weights and N bias:\n",
    "W_Layer_2 = 24 (number of nodes in layer 2) x 2 (number of nodes in layer 1 + bias)\n",
    "\n",
    "To initialize the weights use Gaussian distribution with zero mean and the variance of the Gaussian distribution is set using Xavier initialisation\n",
    "$var(W_2) = \\frac{2}{n_{\\text{in}} + n_\\text{out}}$ or $var(W_2) = \\frac{1}{n_{\\text{out}}}$\n",
    "#### Layer 3 is an output layer - N weights and 1 bias:\n",
    "W_Layer_3 = 1 (number of nodes in layer 3) x 25 (number of nodes in  layer 2 + bias)\n",
    "\n",
    "To initialize the weights use Gaussian distribution with zero mean and the variance of the Gaussian distribution is set using Xavier initialisation\n",
    "$var(W_3) = \\frac{2}{n_{\\text{in}} + n_\\text{out}}$ or $var(W_3) = \\frac{1}{n_{\\text{in}} + n_\\text{out}}$"
   ]
  },
  {
   "cell_type": "code",
   "execution_count": 18,
   "metadata": {},
   "outputs": [],
   "source": [
    "def std_layer(n_in, n_out, option = 1):\n",
    "    if option == 1:\n",
    "        value = np.sqrt(2/(n_in+n_out))\n",
    "    if option == 2:\n",
    "        value = np.sqrt(1/(n_out))\n",
    "    return value"
   ]
  },
  {
   "cell_type": "code",
   "execution_count": 19,
   "metadata": {},
   "outputs": [],
   "source": [
    "std_2 = std_layer(2, 24, 2)\n",
    "std_3 = std_layer(25, 1, 2)\n",
    "\n",
    "W_Layer_2 = np.random.normal(0, std_2, (24, 2))\n",
    "W_Layer_3 = np.random.normal(0, std_3, (1, 25))"
   ]
  },
  {
   "cell_type": "code",
   "execution_count": 20,
   "metadata": {},
   "outputs": [
    {
     "data": {
      "text/plain": [
       "0.2041241452319315"
      ]
     },
     "execution_count": 20,
     "metadata": {},
     "output_type": "execute_result"
    }
   ],
   "source": [
    "std_2"
   ]
  },
  {
   "cell_type": "code",
   "execution_count": 21,
   "metadata": {},
   "outputs": [
    {
     "data": {
      "text/plain": [
       "1.0"
      ]
     },
     "execution_count": 21,
     "metadata": {},
     "output_type": "execute_result"
    }
   ],
   "source": [
    "std_3 "
   ]
  },
  {
   "cell_type": "markdown",
   "metadata": {},
   "source": [
    "## Save to text files"
   ]
  },
  {
   "cell_type": "code",
   "execution_count": 22,
   "metadata": {},
   "outputs": [],
   "source": [
    "np.savetxt('W_Layer_2_InitialGuess.txt', W_Layer_2)\n",
    "np.savetxt('W_Layer_3_InitialGuess.txt', W_Layer_3)"
   ]
  },
  {
   "cell_type": "code",
   "execution_count": null,
   "metadata": {},
   "outputs": [],
   "source": []
  }
 ],
 "metadata": {
  "kernelspec": {
   "display_name": "Python 3",
   "language": "python",
   "name": "python3"
  },
  "language_info": {
   "codemirror_mode": {
    "name": "ipython",
    "version": 3
   },
   "file_extension": ".py",
   "mimetype": "text/x-python",
   "name": "python",
   "nbconvert_exporter": "python",
   "pygments_lexer": "ipython3",
   "version": "3.7.0"
  }
 },
 "nbformat": 4,
 "nbformat_minor": 2
}
